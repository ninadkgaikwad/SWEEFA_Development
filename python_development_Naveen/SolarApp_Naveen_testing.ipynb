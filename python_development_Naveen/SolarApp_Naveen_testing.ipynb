{
  "nbformat": 4,
  "nbformat_minor": 0,
  "metadata": {
    "colab": {
      "name": "SolarApp_Naveen_testing.ipynb",
      "provenance": []
    },
    "kernelspec": {
      "name": "python3",
      "display_name": "Python 3"
    },
    "language_info": {
      "name": "python"
    }
  },
  "cells": [
    {
      "cell_type": "code",
      "execution_count": 6,
      "metadata": {
        "id": "3yPT-qmFpP3x"
      },
      "outputs": [],
      "source": [
        "import unittest\n",
        "import SolarApp_Naveen\n",
        "import numpy as np"
      ]
    },
    {
      "cell_type": "code",
      "source": [
        "class Test_SolarApp_Naveen(unittest.TestCase):\n",
        "  \n",
        "  def test_LeapYearFinder(self):\n",
        "    values = np.array([2000])\n",
        "    items = [\"Year\"]\n",
        "    ghi_LeapYearFinder_Input = {key:value for key, value in zip(items, values)}\n",
        "    ghi_LeapYearFinder_Output = SolarApp_Naveen.GHI_LeapYearFinder(\n",
        "        ghi_LeapYearFinder_Input)\n",
        "    self.assertEqual(np.shape(ghi_LeapYearFinder_Output)[0], 1)\n",
        "\n",
        "  def test_MINToDayDataCoverterApp(self):\n",
        "    values = np.array([[1,2,4], 1, 2,5])\n",
        "    items = [\"ProcessedData\",\"DataCols\",\"Res\",\"AvgOrAdd\"]\n",
        "    ghi_MINToDayDataCoverterApp_Input = {key:value for key, value in zip(items, values)}\n",
        "    ghi_MINToDayDataCoverterApp_Output = SolarApp_Naveen.GHI_MINToDayDataCoverterApp(\n",
        "        ghi_MINToDayDataCoverterApp_Input)\n",
        "    self.assertEqual(np.shape(ghi_MINToDayDataCoverterApp_Output)[0], 1)\n",
        "\n",
        "  def test_ModulePower(self):\n",
        "    values = np.array([\"10\", \"5\", \"1\", \"2\", \"3\",\"6\",\"1\",\"100\",\"15\",\"11\",\"4\"])\n",
        "    items = [\"Pmod\",\"ModTemCF\",\"ModNum\",\"Tn\",\"Gn\",\"Icsf\",\"T\",\"Ic\",\"Uo\",\"U1\",\"Ws\"]\n",
        "    ghi_ModulePower_Input = {key:value for key, value in zip(items, values)}\n",
        "    ghi_ModulePower_Output = SolarApp_Naveen.GHI_ModulePower(\n",
        "        ghi_ModulePower_Input)\n",
        "    self.assertEqual(np.shape(ghi_ModulePower_Output)[0], 3)\n",
        "\n",
        "  def test_PVEnergyCalculator(self):\n",
        "    values = np.array([3, 4,365])\n",
        "    items = [\"EnergyParameters\",\"LenPVmod\",\"yeardays\"]\n",
        "    PVEnergyCalculator_Input = {key:value for key, value in zip(items, values)}\n",
        "    PVEnergyCalculator_Output = SolarApp_Naveen.PVEnergyCalculator(hour_Angle_Input)\n",
        "    self.assertEqual(np.shape(PVEnergyCalculator_Output)[0], 4)\n",
        "\n",
        "  def test_PVoutputPower(self):\n",
        "    values = np.array([10,5,14,3,4,20,13,2,1,10])\n",
        "    items = [\"Pmodtot\", \"LID\",\"LS\",\"Arraymismat\",\"Crys\",\"Shading\", \"OhmicLoss\",\"TrackerL\",\"INVeff\",\"TransLoss\"]\n",
        "    hourly_PVoutputPower_Input = {key:value for key, value in zip(items, values)}\n",
        "    hourly_PVoutputPower_Output = SolarApp_Naveen.PVoutputPower(\n",
        "        PVoutputPower_Index_Input)\n",
        "    self.assertEqual(np.shape(PVoutputPower_Output), 11)"
      ],
      "metadata": {
        "id": "Jc0QTFA3Q65T"
      },
      "execution_count": 13,
      "outputs": []
    }
  ]
}